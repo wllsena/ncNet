{
 "cells": [
  {
   "cell_type": "code",
   "execution_count": 12,
   "id": "398b2015",
   "metadata": {},
   "outputs": [],
   "source": [
    "import pandas as pd\n",
    "import random"
   ]
  },
  {
   "cell_type": "code",
   "execution_count": 122,
   "id": "8bf7d101",
   "metadata": {},
   "outputs": [],
   "source": [
    "def add_interactivity(df, interactivity_):\n",
    "    new_df = []\n",
    "\n",
    "    for _, row_ in df.iterrows():\n",
    "        if not isinstance(row_['question'], str) or not isinstance(row_['vega_zero'], str):\n",
    "            continue\n",
    "\n",
    "        new_df.append(row_)\n",
    "\n",
    "        row = row_.copy()\n",
    "        row['vega_zero'] = row['vega_zero'] + ' interactive'\n",
    "\n",
    "        interactivity = interactivity_.copy()\n",
    "\n",
    "        while True:\n",
    "            inters = random.choice(interactivity)\n",
    "            interactivity.remove(inters)\n",
    "            inter = random.choice(inters)\n",
    "            inter_questions, inter_vega_zero = inter\n",
    "\n",
    "            row['question'] = row['question'] + inter_questions\n",
    "            row['vega_zero'] = row['vega_zero'] + inter_vega_zero\n",
    "\n",
    "            if random.random() > 0.5 or len(interactivity) == 0:\n",
    "                break\n",
    "\n",
    "        new_df.append(row)\n",
    "        \n",
    "    return pd.DataFrame(new_df)"
   ]
  },
  {
   "cell_type": "code",
   "execution_count": 130,
   "id": "ed388bab",
   "metadata": {},
   "outputs": [],
   "source": [
    "dev = pd.read_csv('dataset/dev.csv')\n",
    "test = pd.read_csv('dataset/test.csv')\n",
    "train = pd.read_csv('dataset/train.csv')"
   ]
  },
  {
   "cell_type": "code",
   "execution_count": 128,
   "id": "c7ea4c14",
   "metadata": {},
   "outputs": [],
   "source": [
    "interactivity = [\n",
    "    [(' Display value on hover .', ' tooltip y_ aggregate_'), \n",
    "     (' Show value hint .', ' tooltip y_ aggregate_')],\n",
    "     \n",
    "    [(' Highlight selected fields .', ' legend highlight'), \n",
    "     (' Decrease opacity of unselected fields .', ' legend highlight'),\n",
    "    \n",
    "     (' Filter selected fields .', ' legend filter_'), \n",
    "     (' Only display selected field in legend .', ' legend filter_')],\n",
    "    \n",
    "    [(' Enable zoom .', ' scales'),\n",
    "     (' Panoramic graphic .', ' scales')]\n",
    "]"
   ]
  },
  {
   "cell_type": "code",
   "execution_count": 129,
   "id": "29f463d7",
   "metadata": {},
   "outputs": [],
   "source": [
    "new_dev = add_interactivity(dev, interactivity)\n",
    "new_dev.to_csv('dataset/dev.csv', index=False)\n",
    "\n",
    "new_test = add_interactivity(test, interactivity)\n",
    "new_test.to_csv('dataset/test.csv', index=False)\n",
    "\n",
    "new_train = add_interactivity(train, interactivity)\n",
    "new_train.to_csv('dataset/train.csv', index=False)"
   ]
  },
  {
   "cell_type": "code",
   "execution_count": null,
   "id": "13dbc2d1",
   "metadata": {},
   "outputs": [],
   "source": []
  }
 ],
 "metadata": {
  "kernelspec": {
   "display_name": "ncNet",
   "language": "python",
   "name": "ncnet"
  },
  "language_info": {
   "codemirror_mode": {
    "name": "ipython",
    "version": 3
   },
   "file_extension": ".py",
   "mimetype": "text/x-python",
   "name": "python",
   "nbconvert_exporter": "python",
   "pygments_lexer": "ipython3",
   "version": "3.8.13"
  }
 },
 "nbformat": 4,
 "nbformat_minor": 5
}
